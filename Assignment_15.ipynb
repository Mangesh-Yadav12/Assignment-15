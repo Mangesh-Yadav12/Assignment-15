{
 "cells": [
  {
   "cell_type": "markdown",
   "id": "07b4dd57",
   "metadata": {},
   "source": [
    "###### 1.How many seconds are in an hour? Use the interactive interpreter as a calculator and multiply the number of seconds in a minute (60) by the number of minutes in an hour (also 60).\n",
    "\n",
    "#### ANS :60*60"
   ]
  },
  {
   "cell_type": "code",
   "execution_count": 2,
   "id": "85c70624",
   "metadata": {},
   "outputs": [
    {
     "data": {
      "text/plain": [
       "3600"
      ]
     },
     "execution_count": 2,
     "metadata": {},
     "output_type": "execute_result"
    }
   ],
   "source": [
    "60*60"
   ]
  },
  {
   "cell_type": "markdown",
   "id": "070a87f7",
   "metadata": {},
   "source": [
    "#### 2.Assign the result from the previous task (seconds in an hour) to a variable called seconds_per_hour.\n",
    "##### ANS : seconds_per_hour = 60*60"
   ]
  },
  {
   "cell_type": "code",
   "execution_count": 4,
   "id": "9c08cb35",
   "metadata": {},
   "outputs": [],
   "source": [
    "seconds_per_hour = 60*60"
   ]
  },
  {
   "cell_type": "code",
   "execution_count": 5,
   "id": "050b2f2c",
   "metadata": {},
   "outputs": [
    {
     "name": "stdout",
     "output_type": "stream",
     "text": [
      "3600\n"
     ]
    }
   ],
   "source": [
    "print(seconds_per_hour)"
   ]
  },
  {
   "cell_type": "markdown",
   "id": "75790689",
   "metadata": {},
   "source": [
    "##### 3. How many seconds do you think there are in a day? Make use of the variables seconds per hour and minutes per hour."
   ]
  },
  {
   "cell_type": "code",
   "execution_count": 6,
   "id": "258a6ed6",
   "metadata": {},
   "outputs": [
    {
     "data": {
      "text/plain": [
       "86400"
      ]
     },
     "execution_count": 6,
     "metadata": {},
     "output_type": "execute_result"
    }
   ],
   "source": [
    "seconds_per_hour * 24"
   ]
  },
  {
   "cell_type": "markdown",
   "id": "63031dce",
   "metadata": {},
   "source": [
    "#### 4. Calculate seconds per day again, but this time save the result in a variable called seconds_per_day"
   ]
  },
  {
   "cell_type": "code",
   "execution_count": 7,
   "id": "26d718c7",
   "metadata": {},
   "outputs": [],
   "source": [
    "seconds_per_day = seconds_per_hour * 24"
   ]
  },
  {
   "cell_type": "code",
   "execution_count": 8,
   "id": "1845e7a8",
   "metadata": {},
   "outputs": [
    {
     "data": {
      "text/plain": [
       "86400"
      ]
     },
     "execution_count": 8,
     "metadata": {},
     "output_type": "execute_result"
    }
   ],
   "source": [
    "seconds_per_day"
   ]
  },
  {
   "cell_type": "markdown",
   "id": "f201f6c0",
   "metadata": {},
   "source": [
    "#### 5. Divide seconds_per_day by seconds_per_hour. Use floating-point (/) division."
   ]
  },
  {
   "cell_type": "code",
   "execution_count": 10,
   "id": "4f2a4b60",
   "metadata": {},
   "outputs": [
    {
     "data": {
      "text/plain": [
       "24.0"
      ]
     },
     "execution_count": 10,
     "metadata": {},
     "output_type": "execute_result"
    }
   ],
   "source": [
    "seconds_per_day / seconds_per_hour"
   ]
  },
  {
   "cell_type": "markdown",
   "id": "d85c84fd",
   "metadata": {},
   "source": [
    "#### 6. Divide seconds_per_day by seconds_per_hour, using integer (//) division. Did this number agree with the floating-point value from the previous question, aside from the final .0?"
   ]
  },
  {
   "cell_type": "code",
   "execution_count": 11,
   "id": "252b55aa",
   "metadata": {},
   "outputs": [
    {
     "data": {
      "text/plain": [
       "24"
      ]
     },
     "execution_count": 11,
     "metadata": {},
     "output_type": "execute_result"
    }
   ],
   "source": [
    "seconds_per_day // seconds_per_hour"
   ]
  },
  {
   "cell_type": "markdown",
   "id": "79f99c81",
   "metadata": {},
   "source": [
    "#### 7. Write a generator, genPrimes, that returns the sequence of prime numbers on successive calls to its next() method: 2, 3, 5, 7, 11, ..."
   ]
  },
  {
   "cell_type": "code",
   "execution_count": 12,
   "id": "040cecb4",
   "metadata": {},
   "outputs": [],
   "source": [
    "def genPrimes():\n",
    "    primes = []\n",
    "    n = 2\n",
    "    last = n\n",
    "\n",
    "    while True:\n",
    "        for i in primes:\n",
    "            if n % i == 0:\n",
    "                n += 1\n",
    "                break\n",
    "\n",
    "        else:\n",
    "            primes.append(n)\n",
    "            last = n\n",
    "            n += 1\n",
    "            yield last"
   ]
  },
  {
   "cell_type": "code",
   "execution_count": 13,
   "id": "95ea8251",
   "metadata": {},
   "outputs": [
    {
     "data": {
      "text/plain": [
       "<generator object genPrimes at 0x000002B312A4C0B0>"
      ]
     },
     "execution_count": 13,
     "metadata": {},
     "output_type": "execute_result"
    }
   ],
   "source": [
    "genPrimes()"
   ]
  },
  {
   "cell_type": "code",
   "execution_count": 14,
   "id": "bf04eb6a",
   "metadata": {},
   "outputs": [],
   "source": [
    "None\n",
    "def genPrimes():\n",
    "    primes = [2]\n",
    "    yield primes[0]\n",
    "    guess = 3\n",
    "    while True:\n",
    "        if all(guess%x != 0 for x in primes):\n",
    "            primes.append(guess)        \n",
    "        if guess == primes[-1]:\n",
    "            yield primes[-1]\n",
    "        guess += 2"
   ]
  },
  {
   "cell_type": "code",
   "execution_count": 15,
   "id": "9839e1d0",
   "metadata": {},
   "outputs": [
    {
     "data": {
      "text/plain": [
       "<generator object genPrimes at 0x000002B313846CF0>"
      ]
     },
     "execution_count": 15,
     "metadata": {},
     "output_type": "execute_result"
    }
   ],
   "source": [
    "genPrimes()"
   ]
  },
  {
   "cell_type": "code",
   "execution_count": null,
   "id": "8fc0c860",
   "metadata": {},
   "outputs": [],
   "source": []
  }
 ],
 "metadata": {
  "kernelspec": {
   "display_name": "Python 3 (ipykernel)",
   "language": "python",
   "name": "python3"
  },
  "language_info": {
   "codemirror_mode": {
    "name": "ipython",
    "version": 3
   },
   "file_extension": ".py",
   "mimetype": "text/x-python",
   "name": "python",
   "nbconvert_exporter": "python",
   "pygments_lexer": "ipython3",
   "version": "3.9.12"
  }
 },
 "nbformat": 4,
 "nbformat_minor": 5
}
